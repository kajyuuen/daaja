{
 "cells": [
  {
   "cell_type": "markdown",
   "metadata": {},
   "source": [
    "# Quick example"
   ]
  },
  {
   "cell_type": "markdown",
   "metadata": {},
   "source": [
    "## Sentence Augmenter "
   ]
  },
  {
   "cell_type": "code",
   "execution_count": 1,
   "metadata": {},
   "outputs": [],
   "source": [
    "text = \"日本語でデータ拡張を行う\""
   ]
  },
  {
   "cell_type": "code",
   "execution_count": 2,
   "metadata": {},
   "outputs": [
    {
     "data": {
      "text/plain": [
       "'日本語でデータ伸暢を行う'"
      ]
     },
     "execution_count": 2,
     "metadata": {},
     "output_type": "execute_result"
    }
   ],
   "source": [
    "from daaja.augmentors.sentence import SynonymReplaceAugmentor\n",
    "augmentor = SynonymReplaceAugmentor()\n",
    "augmentor.augment(text)"
   ]
  },
  {
   "cell_type": "code",
   "execution_count": 3,
   "metadata": {},
   "outputs": [
    {
     "data": {
      "text/plain": [
       "'をでデータ拡張日本語行う'"
      ]
     },
     "execution_count": 3,
     "metadata": {},
     "output_type": "execute_result"
    }
   ],
   "source": [
    "from daaja.augmentors.sentence import RandamSwapAugmentor\n",
    "augmentor = RandamSwapAugmentor()\n",
    "augmentor.augment(text)"
   ]
  },
  {
   "cell_type": "code",
   "execution_count": 4,
   "metadata": {},
   "outputs": [
    {
     "data": {
      "text/plain": [
       "'致す日本語でデータ拡張を行う'"
      ]
     },
     "execution_count": 4,
     "metadata": {},
     "output_type": "execute_result"
    }
   ],
   "source": [
    "from daaja.augmentors.sentence import RandamInsertAugmentor\n",
    "augmentor = RandamInsertAugmentor()\n",
    "augmentor.augment(text)"
   ]
  },
  {
   "cell_type": "code",
   "execution_count": 5,
   "metadata": {},
   "outputs": [
    {
     "data": {
      "text/plain": [
       "'日本語でデータを行う'"
      ]
     },
     "execution_count": 5,
     "metadata": {},
     "output_type": "execute_result"
    }
   ],
   "source": [
    "from daaja.augmentors.sentence import RandamDeleteAugmentor\n",
    "augmentor = RandamDeleteAugmentor()\n",
    "augmentor.augment(text)"
   ]
  },
  {
   "cell_type": "markdown",
   "metadata": {},
   "source": [
    "## Sequence Labeling Augmenter"
   ]
  },
  {
   "cell_type": "code",
   "execution_count": 6,
   "metadata": {},
   "outputs": [],
   "source": [
    "tokens_list = [\n",
    "    [\"私\", \"は\", \"田中\", \"と\", \"いい\", \"ます\"],\n",
    "    [\"筑波\", \"大学\", \"に\", \"所属\", \"して\", \"ます\"],\n",
    "    [\"今日\", \"から\", \"筑波\", \"大学\", \"に\", \"通う\"],\n",
    "    [\"茨城\", \"大学\"],\n",
    "]\n",
    "labels_list = [\n",
    "    [\"O\", \"O\", \"B-PER\", \"O\", \"O\", \"O\"],\n",
    "    [\"B-ORG\", \"I-ORG\", \"O\", \"O\", \"O\", \"O\"],\n",
    "    [\"B-DATE\", \"O\", \"B-ORG\", \"I-ORG\", \"O\", \"O\"],\n",
    "    [\"B-ORG\", \"I-ORG\"],\n",
    "]\n",
    "\n",
    "target_tokens = [\"君\", \"は\", \"隆弘\", \"君\", \"かい\"]\n",
    "target_labels = [\"O\", \"O\", \"B-PER\", \"O\", \"O\"]"
   ]
  },
  {
   "cell_type": "code",
   "execution_count": 7,
   "metadata": {},
   "outputs": [
    {
     "data": {
      "text/plain": [
       "(['君', 'は', '隆弘', '君', 'と'], ['O', 'O', 'B-PER', 'O', 'O'])"
      ]
     },
     "execution_count": 7,
     "metadata": {},
     "output_type": "execute_result"
    }
   ],
   "source": [
    "from daaja.augmentors.sequence_labeling import LabelwiseTokenReplacementAugmentor\n",
    "from daaja.augmentors.sequence_labeling.utils import get_token2prob_in_label\n",
    "\n",
    "token_and_prob_in_label = get_token2prob_in_label(tokens_list, labels_list)\n",
    "\n",
    "augmentor = LabelwiseTokenReplacementAugmentor(token_and_prob_in_label)\n",
    "augmentor.augment(target_tokens, target_labels)"
   ]
  },
  {
   "cell_type": "code",
   "execution_count": 8,
   "metadata": {},
   "outputs": [
    {
     "data": {
      "text/plain": [
       "(['君', 'は', '隆弘', '君', 'かい'], ['O', 'O', 'B-PER', 'O', 'O'])"
      ]
     },
     "execution_count": 8,
     "metadata": {},
     "output_type": "execute_result"
    }
   ],
   "source": [
    "from daaja.augmentors.sequence_labeling import MentionReplacementAugmentor\n",
    "from daaja.augmentors.sequence_labeling.utils import get_entity_dict\n",
    "\n",
    "entity_dict = get_entity_dict(tokens_list, labels_list)\n",
    "\n",
    "augmentor = MentionReplacementAugmentor(entity_dict)\n",
    "augmentor.augment(target_tokens, target_labels)"
   ]
  },
  {
   "cell_type": "code",
   "execution_count": 9,
   "metadata": {},
   "outputs": [
    {
     "data": {
      "text/plain": [
       "(['は', '君', '隆弘', '君', 'かい'], ['O', 'O', 'B-PER', 'O', 'O'])"
      ]
     },
     "execution_count": 9,
     "metadata": {},
     "output_type": "execute_result"
    }
   ],
   "source": [
    "from daaja.augmentors.sequence_labeling import ShuffleWithinSegmentsAugmentor\n",
    "\n",
    "augmentor = ShuffleWithinSegmentsAugmentor(p=1)\n",
    "augmentor.augment(target_tokens, target_labels)"
   ]
  },
  {
   "cell_type": "code",
   "execution_count": 10,
   "metadata": {},
   "outputs": [
    {
     "data": {
      "text/plain": [
       "(['は', '君', '隆弘', '君', 'かい'], ['O', 'O', 'B-PER', 'O', 'O'])"
      ]
     },
     "execution_count": 10,
     "metadata": {},
     "output_type": "execute_result"
    }
   ],
   "source": [
    "from daaja.augmentors.sequence_labeling import SynonymReplacementAugmentor\n",
    "\n",
    "augmentor.augment(target_tokens, target_labels)"
   ]
  }
 ],
 "metadata": {
  "kernelspec": {
   "display_name": "Python 3",
   "language": "python",
   "name": "python3"
  },
  "language_info": {
   "codemirror_mode": {
    "name": "ipython",
    "version": 3
   },
   "file_extension": ".py",
   "mimetype": "text/x-python",
   "name": "python",
   "nbconvert_exporter": "python",
   "pygments_lexer": "ipython3",
   "version": "3.7.5"
  }
 },
 "nbformat": 4,
 "nbformat_minor": 4
}
